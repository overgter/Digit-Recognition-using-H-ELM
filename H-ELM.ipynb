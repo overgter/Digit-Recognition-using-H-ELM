{
 "cells": [
  {
   "cell_type": "code",
   "execution_count": 2,
   "metadata": {},
   "outputs": [
    {
     "name": "stdout",
     "output_type": "stream",
     "text": [
      "accuracy= 86.79245283018868\n"
     ]
    }
   ],
   "source": [
    "import pandas as pd\n",
    "import numpy as np\n",
    "import random\n",
    "import math\n",
    "from random import shuffle \n",
    "\n",
    "class iNode:\n",
    "    def __init__(self):\n",
    "        self.input=0\n",
    "        self.output=None\n",
    "        self.weights=None\n",
    "        \n",
    "class oNode:\n",
    "    def __init__(self):\n",
    "        self.input=0\n",
    "        self.output=None\n",
    "        self.bias=None\n",
    "        self.error=None\n",
    "        \n",
    "class innerNode:\n",
    "    def __init__(self):\n",
    "        self.input=0\n",
    "        self.output=None\n",
    "        self.bias=None\n",
    "        self.weights=None\n",
    "        self.error=None\n",
    "        \n",
    "class MLP:\n",
    "    def __init__(self,inodes,n,innerlayers,bias,weight1,weight2,learning_rate):\n",
    "        self.rate=learning_rate\n",
    "        self.outputnode=oNode()\n",
    "        self.layers=[[innerNode() for i in range(n)] for j in range(innerlayers)]\n",
    "        self.layers=[[iNode() for i in range(inodes)]]+self.layers+[[self.outputnode]]\n",
    "        for layer in range(len(self.layers)):\n",
    "            if layer==0:\n",
    "                for node in range(len(self.layers[layer])):\n",
    "                    self.layers[layer][node].weights=[random.uniform(-1,1) for i in range(len(self.layers[layer+1]))]\n",
    "            \n",
    "            elif layer==len(self.layers)-1:\n",
    "                for node in range(len(self.layers[layer])):\n",
    "                    #self.layers[layer][node].weights=[weight2 for i in range(len(self.layers[layer+1]))]\n",
    "                    self.layers[layer][node].bias=0        #change\n",
    "                    \n",
    "            else:\n",
    "                for node in range(len(self.layers[layer])):\n",
    "                    self.layers[layer][node].weights=[random.uniform(-1,1) for i in range(len(self.layers[layer+1]))]\n",
    "                    self.layers[layer][node].bias=random.random()\n",
    "                    \n",
    "    def fun(self,x):\n",
    "        return 1/(1+math.exp(-1*x))\n",
    "    \n",
    "    def derivative(self,x):\n",
    "        return (x.output*(1-x.output))\n",
    "    \n",
    "    def classification(self,x):\n",
    "        if x>0.5:\n",
    "            return 1\n",
    "        return 0\n",
    "                    \n",
    "    def train(self,ltrain,ztrain):\n",
    "        number=0\n",
    "        H=[]\n",
    "        for input in ltrain:\n",
    "            H.append([])\n",
    "            for node in range(len(input)):\n",
    "                self.layers[0][node].output=input[node]\n",
    "            \n",
    "            for layer in range(1,len(self.layers)-1):           #forward propagation\n",
    "                for node in range(len(self.layers[layer])):\n",
    "                    self.layers[layer][node].input=self.layers[layer][node].bias\n",
    "                    for i in self.layers[layer-1]:\n",
    "                        self.layers[layer][node].input+=(i.weights[node]*i.output)\n",
    "                    self.layers[layer][node].output=self.fun(self.layers[layer][node].input)\n",
    "                    H[-1].append(self.layers[layer][node].output)\n",
    "            #self.outputnode.output=self.classification(self.outputnode.output)\n",
    "            \n",
    "            \"\"\"self.outputnode.error=(ztrain[number]-self.outputnode.output)   #back propagation\n",
    "            for layer in range(len(self.layers)-2,-1,-1):\n",
    "                for node in range(len(self.layers[layer])):\n",
    "                    self.layers[layer][node].error=0\n",
    "                    for j in range(len(self.layers[layer+1])):\n",
    "                        self.layers[layer][node].error+=(self.layers[layer][node].weights[j]*self.layers[layer+1][j].error)\n",
    "                    self.layers[layer][node].error*=self.derivative(self.layers[layer][node])\n",
    "                                                                    \n",
    "            for i in range(0,len(self.layers)-1):\n",
    "                for j in range(len(self.layers[i])):\n",
    "                    for k in range(len(self.layers[i][j].weights)):\n",
    "                        self.layers[i][j].weights[k]+=self.rate*self.layers[i+1][k].error*self.layers[i][j].output\n",
    "                        \n",
    "                    if i!=0:\n",
    "                        self.layers[i][j].bias+=(self.rate*self.layers[i][j].error)\"\"\"\n",
    "            number+=1\n",
    "        return(H)\n",
    "            \n",
    "    def test(self,ltest,ztest):\n",
    "        number=0\n",
    "        count=0\n",
    "        tp=0\n",
    "        tn=0\n",
    "        fp=0\n",
    "        fn=0\n",
    "        #print(ztest)\n",
    "        for input in ltest:\n",
    "            for node in range(len(input)):\n",
    "                self.layers[0][node].output=input[node]\n",
    "            \n",
    "            for layer in range(1,len(self.layers)):           #forward propagation\n",
    "                for node in range(len(self.layers[layer])):\n",
    "                    self.layers[layer][node].input=self.layers[layer][node].bias\n",
    "                    for i in self.layers[layer-1]:\n",
    "                        self.layers[layer][node].input+=(i.weights[node]*i.output)\n",
    "                    self.layers[layer][node].output=self.fun(self.layers[layer][node].input)\n",
    "            self.outputnode.output=self.classification(self.outputnode.output)\n",
    "            #print(self.outputnode.output)\n",
    "            if self.outputnode.output==ztest[number]:\n",
    "                count+=1\n",
    "                if ztest[number]==1:\n",
    "                    tp+=1\n",
    "                else:\n",
    "                    tn+=1\n",
    "            elif ztest[number]==1:\n",
    "                fn+=1\n",
    "            else:\n",
    "                fp+=1\n",
    "            number+=1\n",
    "        print('accuracy =',count/len(ztest)*100,'%')\n",
    "        print('precision(+) =',tp/(tp+fp))\n",
    "        print('recall(+) =',tp/(tp+fn))\n",
    "        print('precision(-) =',tn/(tn+fn))\n",
    "        print('recall(-) =',tn/(tn+fp))\n",
    "        \n",
    "    def findB(self,H,T):\n",
    "        Htran=np.transpose(H)\n",
    "        prod=np.dot(H,Htran)\n",
    "        row=len(prod)\n",
    "        col=len(prod[0])\n",
    "        lam_invmat=np.zeros((row,col),float)\n",
    "        np.fill_diagonal(lam_invmat,random.random())\n",
    "        if np.linalg.det(prod)!=0:\n",
    "            temp=np.sum([lam_invmat,prod],axis=0)\n",
    "            #print(lam_invmat)\n",
    "            #print(prod)\n",
    "            temp=np.linalg.inv(temp)\n",
    "            B=np.dot(Htran,temp)\n",
    "            B=np.dot(B,T)\n",
    "        else:\n",
    "            prod=np.dot(Htran,H)\n",
    "            row=len(prod)\n",
    "            col=len(prod[0])\n",
    "            lam_invmat=np.zeros((row,col),float)\n",
    "            np.fill_diagonal(lam_invmat,random.random())\n",
    "            temp=np.sum([lam_invmat,prod],axis=0)\n",
    "            #print(lam_invmat)\n",
    "            #print(prod)\n",
    "            temp=np.linalg.inv(temp)\n",
    "            B=np.dot(temp,Htran)\n",
    "            B=np.dot(B,T)\n",
    "        #print('len=',len(self.layers[-2]))\n",
    "        #for i in range(len(self.layers[-2])):\n",
    "            #self.layers[-2][i].weights=[B[i]]\n",
    "        return B\n",
    "    \n",
    "    def sparse_encoder(self,A,b,lam,itrs):\n",
    "        prod= np.dot(np.transpose(A),A)\n",
    "        eigvals,eigvecs = np.linalg.eig(prod)\n",
    "        Li=1/max(eigvals)\n",
    "        alpha = lam * Li\n",
    "        m=len(A[1])\n",
    "        n=len(b[1])\n",
    "        x=np.zeros((m,n),float)\n",
    "        yk=x[:][:]\n",
    "        tk=1\n",
    "        L1 = 2 * Li * np.array(prod)\n",
    "        L2 = np.dot(2 * Li * np.array(np.transpose(A)) , np.array(b))\n",
    "        for i in range(itrs):\n",
    "            ck= np.array(yk)- np.dot(L1,yk) + np.array(L2)\n",
    "            x1= np.multiply(np.absolute(ck)-alpha,np.sign(ck))\n",
    "            tk1= 0.5 + 0.5 * ( (1 + 4 * (tk**2)) ** 0.5 )\n",
    "            tt = (tk-1)/tk1\n",
    "            yk = x1 + tt*np.array((np.array(x) - np.array(x1)))\n",
    "            tk = tk1\n",
    "            x = x1\n",
    "        return x\n",
    "    \n",
    "    def train2(self,ltrain,ztrain):\n",
    "        b1=[[random.random() for i in range(5)] for j in range(len(ltrain[0]))]\n",
    "        A1=np.dot(ltrain,b1)\n",
    "        beta1= np.transpose(self.sparse_encoder(A1,ltrain,0.001,50))\n",
    "        \n",
    "        T1=np.dot(ltrain,beta1)\n",
    "        \n",
    "        H2=T1\n",
    "        b2=[[random.random() for i in range(10)] for j in range(5)]\n",
    "        A2= np.dot(H2,b2)\n",
    "        beta2= np.transpose(self.sparse_encoder(A2,H2,0.001,50))\n",
    "        \n",
    "        T2=np.dot(H2,beta2)\n",
    "        H3=T2\n",
    "        B=self.findB(H3,ztrain)\n",
    "        return [beta1,beta2,B]\n",
    "        \n",
    "    def test2(self,ltest,ztest,beta1,beta2,B):\n",
    "        O1=np.dot(ltest,beta1)\n",
    "        O2=np.dot(O1,beta2)\n",
    "        O3=np.dot(O2,B)\n",
    "        #print(O3)\n",
    "        count=0\n",
    "        for i in range(len(ztest)):\n",
    "            if ztest[i]==self.classification(O3[i]):\n",
    "                count+=1\n",
    "        print('accuracy=',count*100/len(ztest))\n",
    "        \n",
    "            \n",
    "        \n",
    "\n",
    "\n",
    "data=pd.read_csv('C:\\\\Users\\\\Rakesh\\\\SC\\\\lab2\\\\SPECT.csv')\n",
    "copy=data.values.tolist()\n",
    "shuffle(copy)\n",
    "#copy=data[:][:]\n",
    "ltrain=[]\n",
    "ztrain=[]\n",
    "ltest=[]\n",
    "ztest=[]\n",
    "dict={}\n",
    "c=0\n",
    "n=data.iloc[:,1].count()\n",
    "\n",
    "for i in range(n):            # dividing train and test dataset\n",
    "    row=random.randint(0,len(copy)-1)\n",
    "    if i<0.8*n:\n",
    "        ltrain.append(copy[row][1:])\n",
    "        ztrain.append(copy[row][0])\n",
    "        if copy[row][0] not in dict:\n",
    "            dict[copy[row][0]]=c\n",
    "            c+=1\n",
    "        copy.remove(copy[row])\n",
    "    else:\n",
    "        ltest.append(copy[row][1:])\n",
    "        ztest.append(copy[row][0])\n",
    "        copy.remove(copy[row])\n",
    "        \n",
    "for i in range(len(ztrain)): #changing categorical variables to numbers\n",
    "    ztrain[i]=dict[ztrain[i]]\n",
    "for i in range(len(ztest)):\n",
    "    ztest[i]=dict[ztest[i]]  \n",
    "inputs=len(ltrain[0])\n",
    "M=MLP(inputs,200,1,1/6,1/(5*inputs),1/5,0.2)\n",
    "[beta1,beta2,B]=M.train2(ltrain,ztrain)\n",
    "#B=M.findB(H,ztrain)\n",
    "M.test2(ltest,ztest,beta1,beta2,B)\n",
    "#print(M.layers[-2][0].weights)\n",
    "#print(B)"
   ]
  },
  {
   "cell_type": "code",
   "execution_count": 6,
   "metadata": {},
   "outputs": [],
   "source": [
    "import numpy as np\n",
    "#centered_matrix = X - X.mean(axis=1)[:, np.newaxis]\n",
    "c=[[1,2],[3,4]]\n",
    "ctran=np.transpose(c)\n",
    "cov = np.dot(c,ctran)\n",
    "eigvals,e= np.linalg.eig(cov)"
   ]
  },
  {
   "cell_type": "code",
   "execution_count": 7,
   "metadata": {},
   "outputs": [
    {
     "data": {
      "text/plain": [
       "array([ 0.13393125, 29.86606875])"
      ]
     },
     "execution_count": 7,
     "metadata": {},
     "output_type": "execute_result"
    }
   ],
   "source": [
    "eigvals"
   ]
  },
  {
   "cell_type": "code",
   "execution_count": 3,
   "metadata": {},
   "outputs": [
    {
     "data": {
      "text/plain": [
       "29.866068747318504"
      ]
     },
     "execution_count": 3,
     "metadata": {},
     "output_type": "execute_result"
    }
   ],
   "source": [
    "max(eigvals)"
   ]
  },
  {
   "cell_type": "code",
   "execution_count": 8,
   "metadata": {},
   "outputs": [
    {
     "data": {
      "text/plain": [
       "array([0, 2, 4, 6, 8])"
      ]
     },
     "execution_count": 8,
     "metadata": {},
     "output_type": "execute_result"
    }
   ],
   "source": [
    "2*np.arange(5)"
   ]
  },
  {
   "cell_type": "code",
   "execution_count": 13,
   "metadata": {},
   "outputs": [
    {
     "data": {
      "text/plain": [
       "array([[2, 4, 6],\n",
       "       [4, 6, 8]])"
      ]
     },
     "execution_count": 13,
     "metadata": {},
     "output_type": "execute_result"
    }
   ],
   "source": [
    "A=[[1,2,3],[2,3,4]]\n",
    "2*np.array(A)#.reshape(2,3)"
   ]
  },
  {
   "cell_type": "code",
   "execution_count": 15,
   "metadata": {},
   "outputs": [
    {
     "data": {
      "text/plain": [
       "array([[2, 4, 6],\n",
       "       [4, 6, 8]])"
      ]
     },
     "execution_count": 15,
     "metadata": {},
     "output_type": "execute_result"
    }
   ],
   "source": [
    "B=[[1,2,3],[2,3,4]]\n",
    "np.array(A) + np.array(B)"
   ]
  },
  {
   "cell_type": "code",
   "execution_count": 16,
   "metadata": {},
   "outputs": [],
   "source": [
    "A=np.array(A)"
   ]
  },
  {
   "cell_type": "code",
   "execution_count": 17,
   "metadata": {},
   "outputs": [
    {
     "data": {
      "text/plain": [
       "array([[1, 2, 3],\n",
       "       [2, 3, 4]])"
      ]
     },
     "execution_count": 17,
     "metadata": {},
     "output_type": "execute_result"
    }
   ],
   "source": [
    "A"
   ]
  },
  {
   "cell_type": "code",
   "execution_count": 18,
   "metadata": {},
   "outputs": [
    {
     "data": {
      "text/plain": [
       "array([[1, 2, 3],\n",
       "       [2, 3, 4]])"
      ]
     },
     "execution_count": 18,
     "metadata": {},
     "output_type": "execute_result"
    }
   ],
   "source": [
    "np.array(A)"
   ]
  },
  {
   "cell_type": "code",
   "execution_count": 23,
   "metadata": {},
   "outputs": [],
   "source": [
    "B=[[1,2,2],[3,3,4]]\n"
   ]
  },
  {
   "cell_type": "code",
   "execution_count": 24,
   "metadata": {},
   "outputs": [
    {
     "data": {
      "text/plain": [
       "array([[ 1,  4,  6],\n",
       "       [ 6,  9, 16]])"
      ]
     },
     "execution_count": 24,
     "metadata": {},
     "output_type": "execute_result"
    }
   ],
   "source": [
    "np.multiply(A,B)"
   ]
  },
  {
   "cell_type": "code",
   "execution_count": 25,
   "metadata": {},
   "outputs": [
    {
     "data": {
      "text/plain": [
       "1"
      ]
     },
     "execution_count": 25,
     "metadata": {},
     "output_type": "execute_result"
    }
   ],
   "source": [
    "abs(-1)"
   ]
  },
  {
   "cell_type": "code",
   "execution_count": 27,
   "metadata": {},
   "outputs": [
    {
     "ename": "TypeError",
     "evalue": "'>' not supported between instances of 'int' and 'list'",
     "output_type": "error",
     "traceback": [
      "\u001b[1;31m---------------------------------------------------------------------------\u001b[0m",
      "\u001b[1;31mTypeError\u001b[0m                                 Traceback (most recent call last)",
      "\u001b[1;32m<ipython-input-27-643b67e08b58>\u001b[0m in \u001b[0;36m<module>\u001b[1;34m()\u001b[0m\n\u001b[1;32m----> 1\u001b[1;33m \u001b[0mmax\u001b[0m\u001b[1;33m(\u001b[0m\u001b[1;33m[\u001b[0m\u001b[1;36m1\u001b[0m\u001b[1;33m,\u001b[0m\u001b[1;36m2\u001b[0m\u001b[1;33m]\u001b[0m\u001b[1;33m,\u001b[0m\u001b[1;36m0\u001b[0m\u001b[1;33m)\u001b[0m\u001b[1;33m\u001b[0m\u001b[0m\n\u001b[0m",
      "\u001b[1;31mTypeError\u001b[0m: '>' not supported between instances of 'int' and 'list'"
     ]
    }
   ],
   "source": [
    "max([1,2],0)"
   ]
  },
  {
   "cell_type": "code",
   "execution_count": 28,
   "metadata": {},
   "outputs": [
    {
     "ename": "AttributeError",
     "evalue": "'list' object has no attribute 'cT'",
     "output_type": "error",
     "traceback": [
      "\u001b[1;31m---------------------------------------------------------------------------\u001b[0m",
      "\u001b[1;31mAttributeError\u001b[0m                            Traceback (most recent call last)",
      "\u001b[1;32m<ipython-input-28-53f1c77f4d1a>\u001b[0m in \u001b[0;36m<module>\u001b[1;34m()\u001b[0m\n\u001b[0;32m      1\u001b[0m \u001b[0mA\u001b[0m\u001b[1;33m=\u001b[0m\u001b[1;33m[\u001b[0m\u001b[1;33m[\u001b[0m\u001b[1;36m1\u001b[0m\u001b[1;33m,\u001b[0m\u001b[1;36m2\u001b[0m\u001b[1;33m,\u001b[0m\u001b[1;36m3\u001b[0m\u001b[1;33m]\u001b[0m\u001b[1;33m,\u001b[0m\u001b[1;33m[\u001b[0m\u001b[1;36m1\u001b[0m\u001b[1;33m,\u001b[0m\u001b[1;36m5\u001b[0m\u001b[1;33m,\u001b[0m\u001b[1;36m6\u001b[0m\u001b[1;33m]\u001b[0m\u001b[1;33m]\u001b[0m\u001b[1;33m\u001b[0m\u001b[0m\n\u001b[1;32m----> 2\u001b[1;33m \u001b[0mAA\u001b[0m \u001b[1;33m=\u001b[0m \u001b[1;33m(\u001b[0m\u001b[0mA\u001b[0m\u001b[1;33m.\u001b[0m\u001b[0mcT\u001b[0m\u001b[1;33m)\u001b[0m \u001b[1;33m*\u001b[0m \u001b[0mA\u001b[0m\u001b[1;33m\u001b[0m\u001b[0m\n\u001b[0m\u001b[0;32m      3\u001b[0m \u001b[1;33m\u001b[0m\u001b[0m\n\u001b[0;32m      4\u001b[0m \u001b[0mLf\u001b[0m \u001b[1;33m=\u001b[0m \u001b[0mmax\u001b[0m\u001b[1;33m(\u001b[0m\u001b[0meig\u001b[0m\u001b[1;33m(\u001b[0m\u001b[0mAA\u001b[0m\u001b[1;33m)\u001b[0m\u001b[1;33m)\u001b[0m\u001b[1;33m\u001b[0m\u001b[0m\n\u001b[0;32m      5\u001b[0m \u001b[0mLi\u001b[0m \u001b[1;33m=\u001b[0m \u001b[1;36m1\u001b[0m \u001b[1;33m/\u001b[0m \u001b[0mLf\u001b[0m\u001b[1;33m\u001b[0m\u001b[0m\n",
      "\u001b[1;31mAttributeError\u001b[0m: 'list' object has no attribute 'cT'"
     ]
    }
   ],
   "source": [
    "A=[[1,2,3],[1,5,6]]\n",
    "AA = (np.transpose(A)) * A\n",
    "\n",
    "Lf = max(eig(AA))\n",
    "Li = 1 / Lf\n",
    "alp = lam * Li\n",
    "m = size(A, 2)\n",
    "n = size(b, 2)\n",
    "x = zeros(m, n)\n",
    "yk = x\n",
    "tk = 1\n",
    "L1 = 2 * Li * AA\n",
    "L2 = 2 * Li * A.cT * b\n",
    "# tic\n",
    "for i in mslice[1:itrs]:\n",
    "    ck = yk - L1 * yk + L2\n",
    "    x1 = (max(abs(ck) - alp, 0)) *elmul* sign(ck)\n",
    "    tk1 = 0.5 + 0.5 * sqrt(1 + 4 * tk ** 2)\n",
    "    tt = (tk - 1) / tk1\n",
    "    yk = x1 + tt * (x - x1)\n",
    "    tk = tk1\n",
    "    x = x1\n",
    "# toc"
   ]
  },
  {
   "cell_type": "code",
   "execution_count": 30,
   "metadata": {},
   "outputs": [
    {
     "data": {
      "text/plain": [
       "array([[2, 4],\n",
       "       [6, 8]])"
      ]
     },
     "execution_count": 30,
     "metadata": {},
     "output_type": "execute_result"
    }
   ],
   "source": [
    "2*np.array([[1,2],[3,4]])"
   ]
  },
  {
   "cell_type": "code",
   "execution_count": 8,
   "metadata": {},
   "outputs": [
    {
     "data": {
      "text/plain": [
       "array([[1, 2],\n",
       "       [3, 4]])"
      ]
     },
     "execution_count": 8,
     "metadata": {},
     "output_type": "execute_result"
    }
   ],
   "source": [
    "a=[[1,-2],[3,-4]]\n",
    "np.absolute(a)"
   ]
  },
  {
   "cell_type": "code",
   "execution_count": null,
   "metadata": {},
   "outputs": [],
   "source": []
  }
 ],
 "metadata": {
  "kernelspec": {
   "display_name": "Python 3",
   "language": "python",
   "name": "python3"
  },
  "language_info": {
   "codemirror_mode": {
    "name": "ipython",
    "version": 3
   },
   "file_extension": ".py",
   "mimetype": "text/x-python",
   "name": "python",
   "nbconvert_exporter": "python",
   "pygments_lexer": "ipython3",
   "version": "3.6.4"
  }
 },
 "nbformat": 4,
 "nbformat_minor": 2
}
