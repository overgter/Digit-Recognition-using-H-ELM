{
 "cells": [
  {
   "cell_type": "code",
   "execution_count": 1,
   "metadata": {},
   "outputs": [],
   "source": [
    "import pandas as pd\n",
    "import numpy as np\n",
    "import random\n",
    "import math\n",
    "from random import shuffle\n",
    "from sklearn import preprocessing\n",
    "from sklearn.preprocessing import OneHotEncoder"
   ]
  },
  {
   "cell_type": "code",
   "execution_count": 46,
   "metadata": {},
   "outputs": [],
   "source": [
    "data=pd.read_csv('C:\\\\Users\\\\Rakesh\\\\SC\\\\Project\\\\mnist\\\\train.csv')\n",
    "\n",
    "n=data.iloc[:,1].count()\n",
    "data=data.iloc[:n//1,:]\n",
    "n=n//1\n",
    "\n",
    "ltrain=data.iloc[:,1:]\n",
    "x = ltrain#.values #returns a numpy array\n",
    "min_max_scaler = preprocessing.MinMaxScaler()\n",
    "x_scaled = min_max_scaler.fit_transform(x)\n",
    "ltrain = pd.DataFrame(x_scaled)\n",
    "ltrain=ltrain.values\n",
    "\n",
    "ztrain=data.iloc[:,0].values\n",
    "ztrain.shape=(len(ztrain),1)\n",
    "\n",
    "onehotencoder=OneHotEncoder(categorical_features=[0])\n",
    "ztrain=(onehotencoder.fit_transform(ztrain)).toarray()\n",
    "\n",
    "split=int(0.9*n)\n",
    "\n",
    "ltest=ltrain[split:]\n",
    "ztest=ztrain[split:]\n",
    "\n",
    "ltrain=ltrain[:split]\n",
    "ztrain=ztrain[:split]\n"
   ]
  },
  {
   "cell_type": "code",
   "execution_count": 58,
   "metadata": {},
   "outputs": [
    {
     "name": "stdout",
     "output_type": "stream",
     "text": [
      "accuracy= 74.23809523809524\n"
     ]
    }
   ],
   "source": [
    "class H_ELM:\n",
    "    def __init__(self):\n",
    "        self.B=None  \n",
    "\n",
    "    def findB(self,H,T):\n",
    "        Htran=np.transpose(H)\n",
    "        prod=np.dot(Htran,H)\n",
    "        row=len(prod)\n",
    "        col=len(prod[0])\n",
    "        lam_invmat=np.zeros((row,col),float)\n",
    "        np.fill_diagonal(lam_invmat,random.random())\n",
    "        temp=np.sum([lam_invmat,prod],axis=0)\n",
    "        #print(lam_invmat)\n",
    "        #print(prod)\n",
    "        temp=np.linalg.inv(temp)\n",
    "        B=np.dot(temp,Htran)\n",
    "        B=np.dot(B,T)\n",
    "        #print('len=',len(self.layers[-2]))\n",
    "        #for i in range(len(self.layers[-2])):\n",
    "            #self.layers[-2][i].weights=[B[i]]\n",
    "        return B\n",
    "    \n",
    "    def sparse_encoder(self,A,b,lam,itrs):\n",
    "        prod= np.dot(np.transpose(A),A)\n",
    "        eigvals,eigvecs = np.linalg.eig(prod)\n",
    "        Li=1/max(eigvals)\n",
    "        alpha = lam * Li\n",
    "        m=len(A[1])\n",
    "        n=len(b[1])\n",
    "        x=np.zeros((m,n),float)\n",
    "        yk=x[:][:]\n",
    "        tk=1\n",
    "        L1 = 2 * Li * np.array(prod)\n",
    "        L2 = np.dot(2 * Li * np.array(np.transpose(A)) , np.array(b))\n",
    "        for i in range(itrs):\n",
    "            ck= np.array(yk)- np.dot(L1,yk) + np.array(L2)\n",
    "            x1= np.multiply(np.absolute(ck)-alpha,np.sign(ck))\n",
    "            tk1= 0.5 + 0.5 * ( (1 + 4 * (tk**2)) ** 0.5 )\n",
    "            tt = (tk-1)/tk1\n",
    "            yk = x1 + tt*np.array((np.array(x) - np.array(x1)))\n",
    "            tk = tk1\n",
    "            x = x1\n",
    "        return x\n",
    "    \n",
    "    def train2(self,ltrain,ztrain,l):\n",
    "        bt=[]\n",
    "        lmd=10**4\n",
    "        prv=ltrain\n",
    "        ld=len(ltrain[0])\n",
    "        for k in range(l):\n",
    "            b=[[random.uniform(-1,1) for i in range(nl[k])] for j in range(ld)]\n",
    "            H=np.dot(prv,b)\n",
    "            beta= np.transpose(self.sparse_encoder(H,prv,lmd,500))\n",
    "            T=np.dot(prv,beta)\n",
    "            bt.append(beta)\n",
    "            prv=T\n",
    "            ld=nl[k]\n",
    "        \n",
    "        #T=np.dot(T,beta)\n",
    "        B=self.findB(prv,ztrain)\n",
    "        return [bt,B]\n",
    "        \n",
    "    def test2(self,ltest,ztest,beta,B,l):\n",
    "        inp=ltest\n",
    "        for k in range(l):\n",
    "            O=np.dot(inp,beta[k])\n",
    "            inp=O\n",
    "        O=np.dot(O,B)\n",
    "        #print(ztest)\n",
    "        #print(O3)\n",
    "        count=0\n",
    "        for i in range(len(ztest)):\n",
    "            #print(ztest[i],self.classification(O3[i]),O3[i])\n",
    "            #print(np.argmax(ztest[i]),np.argmax(O3[i]))\n",
    "            if np.argmax(ztest[i])==np.argmax(O[i]):\n",
    "                count+=1\n",
    "        print('accuracy=',100*count/len(ztest))\n",
    "        \n",
    "M=H_ELM()\n",
    "l=2\n",
    "nl=[100,100]\n",
    "[beta,B]=M.train2(ltrain,ztrain,l)\n",
    "#print(np.matrix(beta[0]))\n",
    "M.test2(ltest,ztest,beta,B,l)"
   ]
  },
  {
   "cell_type": "code",
   "execution_count": 17,
   "metadata": {},
   "outputs": [],
   "source": [
    "l=np.array([1,2,3])\n",
    "l.shape=(len(l),1)"
   ]
  },
  {
   "cell_type": "code",
   "execution_count": 18,
   "metadata": {},
   "outputs": [
    {
     "name": "stdout",
     "output_type": "stream",
     "text": [
      "[[1]\n",
      " [2]\n",
      " [3]]\n"
     ]
    }
   ],
   "source": [
    "print(l)"
   ]
  },
  {
   "cell_type": "code",
   "execution_count": 23,
   "metadata": {},
   "outputs": [
    {
     "data": {
      "text/plain": [
       "array([0., 1., 0., 0., 0., 0., 0., 0., 0., 0.])"
      ]
     },
     "execution_count": 23,
     "metadata": {},
     "output_type": "execute_result"
    }
   ],
   "source": [
    "ztrain[0]"
   ]
  },
  {
   "cell_type": "code",
   "execution_count": 18,
   "metadata": {},
   "outputs": [
    {
     "data": {
      "text/plain": [
       "301"
      ]
     },
     "execution_count": 18,
     "metadata": {},
     "output_type": "execute_result"
    }
   ],
   "source": [
    "len(beta)"
   ]
  },
  {
   "cell_type": "code",
   "execution_count": 43,
   "metadata": {},
   "outputs": [
    {
     "data": {
      "text/plain": [
       "0"
      ]
     },
     "execution_count": 43,
     "metadata": {},
     "output_type": "execute_result"
    }
   ],
   "source": [
    "l=np.array([5,2,3])\n",
    "np.argmax(l)"
   ]
  },
  {
   "cell_type": "code",
   "execution_count": 36,
   "metadata": {},
   "outputs": [
    {
     "data": {
      "text/plain": [
       "array([1., 0., 0., 0., 0., 0., 0., 0., 0., 0.])"
      ]
     },
     "execution_count": 36,
     "metadata": {},
     "output_type": "execute_result"
    }
   ],
   "source": [
    "ztest[0]"
   ]
  },
  {
   "cell_type": "code",
   "execution_count": 48,
   "metadata": {},
   "outputs": [
    {
     "data": {
      "text/plain": [
       "array([ True,  True,  True])"
      ]
     },
     "execution_count": 48,
     "metadata": {},
     "output_type": "execute_result"
    }
   ],
   "source": [
    "np.array([1,2,3])==np.array([1,2,3])"
   ]
  },
  {
   "cell_type": "code",
   "execution_count": 59,
   "metadata": {},
   "outputs": [
    {
     "data": {
      "text/plain": [
       "784"
      ]
     },
     "execution_count": 59,
     "metadata": {},
     "output_type": "execute_result"
    }
   ],
   "source": [
    "import time\n",
    "t1=time.time()\n",
    "len(ltrain[0])\n",
    "t2=time.time()\n",
    "print(t2-t1)"
   ]
  },
  {
   "cell_type": "code",
   "execution_count": null,
   "metadata": {},
   "outputs": [],
   "source": []
  }
 ],
 "metadata": {
  "kernelspec": {
   "display_name": "Python 3",
   "language": "python",
   "name": "python3"
  },
  "language_info": {
   "codemirror_mode": {
    "name": "ipython",
    "version": 3
   },
   "file_extension": ".py",
   "mimetype": "text/x-python",
   "name": "python",
   "nbconvert_exporter": "python",
   "pygments_lexer": "ipython3",
   "version": "3.6.4"
  }
 },
 "nbformat": 4,
 "nbformat_minor": 2
}
